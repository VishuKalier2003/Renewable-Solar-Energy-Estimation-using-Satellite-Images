{
 "cells": [
  {
   "cell_type": "code",
   "execution_count": 1,
   "metadata": {},
   "outputs": [],
   "source": [
    "import torch\n",
    "from ultralytics import YOLO"
   ]
  },
  {
   "cell_type": "code",
   "execution_count": null,
   "metadata": {},
   "outputs": [],
   "source": [
    "if torch.cuda.is_available():\n",
    "    print(torch.cuda.current_device())  # This should return the GPU device number you are currently using\n",
    "    print(torch.cuda.device(0))  # This should return the name of the GPU device you are currently using\n",
    "    print(torch.cuda.device_count())  # This will show the number of GPUs detected\n",
    "    print(torch.cuda.get_device_name(0))  # This prints the name of your GPU\n",
    "    !nvidia-smi\n",
    "\n",
    "else:\n",
    "    print('GPU not available')"
   ]
  },
  {
   "cell_type": "code",
   "execution_count": null,
   "metadata": {},
   "outputs": [],
   "source": [
    "# Load your model\n",
    "model = YOLO(\"yolo11n-obb.yaml\")  # Replace with your custom .yaml file if needed\n",
    "\n",
    "# Train on GPU (device=0), adjust batch size and epochs if necessary\n",
    "results = model.train(\n",
    "    data=\"C:/Users/VIRAT/Projects/isro-repo/Renewable-Solar-Energy-Estimation-using-Satellite-Images/data/Solar-panel-detection.v3i.yolov8-obb/data.yaml\",\n",
    "    epochs=100,\n",
    "    imgsz=640,\n",
    "    batch=32,\n",
    "    device=0  # Set the device to GPU (device=0 for the first GPU, or set to 'cpu' to force CPU usage)\n",
    ")\n"
   ]
  },
  {
   "cell_type": "code",
   "execution_count": 9,
   "metadata": {},
   "outputs": [
    {
     "name": "stdout",
     "output_type": "stream",
     "text": [
      "ultralytics.utils.metrics.OBBMetrics object with attributes:\n",
      "\n",
      "ap_class_index: array([0])\n",
      "box: ultralytics.utils.metrics.Metric object\n",
      "confusion_matrix: <ultralytics.utils.metrics.ConfusionMatrix object at 0x000001C869129810>\n",
      "curves: []\n",
      "curves_results: []\n",
      "fitness: 0.26283716197190865\n",
      "keys: ['metrics/precision(B)', 'metrics/recall(B)', 'metrics/mAP50(B)', 'metrics/mAP50-95(B)']\n",
      "maps: array([    0.24032])\n",
      "names: {0: 'solar-panel'}\n",
      "plot: True\n",
      "results_dict: {'metrics/precision(B)': 0.6042464998502922, 'metrics/recall(B)': 0.4469026548672566, 'metrics/mAP50(B)': 0.46551018330449867, 'metrics/mAP50-95(B)': 0.2403179373793986, 'fitness': 0.26283716197190865}\n",
      "save_dir: WindowsPath('c:/Users/VIRAT/Projects/isro-repo/Renewable-Solar-Energy-Estimation-using-Satellite-Images/runs/obb/train2')\n",
      "speed: {'preprocess': 0.21517276763916016, 'inference': 2.6485100388526917, 'loss': 0.0, 'postprocess': 2.6562660932540894}\n"
     ]
    }
   ],
   "source": [
    "print(results)"
   ]
  }
 ],
 "metadata": {
  "kernelspec": {
   "display_name": "sp-env",
   "language": "python",
   "name": "python3"
  },
  "language_info": {
   "codemirror_mode": {
    "name": "ipython",
    "version": 3
   },
   "file_extension": ".py",
   "mimetype": "text/x-python",
   "name": "python",
   "nbconvert_exporter": "python",
   "pygments_lexer": "ipython3",
   "version": "3.10.9"
  }
 },
 "nbformat": 4,
 "nbformat_minor": 2
}
